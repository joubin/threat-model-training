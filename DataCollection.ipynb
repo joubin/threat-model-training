{
 "cells": [
  {
   "cell_type": "code",
   "execution_count": 32,
   "metadata": {},
   "outputs": [],
   "source": [
    "from selenium import webdriver\n",
    "from selenium.webdriver.common.by import By\n",
    "from selenium.webdriver.support.ui import WebDriverWait\n",
    "from selenium.webdriver.support import expected_conditions as EC\n",
    "import string\n",
    "import os\n",
    "import time\n",
    "\n",
    "driver = webdriver.Firefox()\n",
    "driver.get('https://csf.tools/controlset/nist800-53r5/?name_filter=&baseline%5B%5D=nist800-53r5-high')\n",
    "\n"
   ]
  },
  {
   "cell_type": "code",
   "execution_count": 33,
   "metadata": {},
   "outputs": [
    {
     "name": "stdout",
     "output_type": "stream",
     "text": [
      "Going to the next page\n",
      "Going to the next page\n",
      "Going to the next page\n",
      "Going to the next page\n",
      "Going to the next page\n",
      "Going to the next page\n",
      "Going to the next page\n",
      "out of data\n"
     ]
    }
   ],
   "source": [
    "table_data = []\n",
    "last_set = None\n",
    "has_more_data = True\n",
    "\n",
    "try:\n",
    "    while [has_more_data]:\n",
    "        table = WebDriverWait(driver=driver, timeout=10).until(\n",
    "            EC.presence_of_element_located(locator=(By.ID, 'controlset-nist800-53r5'))\n",
    "        )\n",
    "        for row in table.find_elements(By. CSS_SELECTOR, 'tr'):\n",
    "            columns = row.find_elements(By.CSS_SELECTOR, 'td')\n",
    "            if len(columns) < 1:\n",
    "                # likly the header, we should do more here later\n",
    "                pass\n",
    "            else:\n",
    "                # Main code flow\n",
    "                if \"controlset-element-enhancement\" in row.get_attribute(\"class\"):\n",
    "                    id = f'{last_set}{columns[0].text}'\n",
    "                elif \"controlset-row\" in row.get_attribute(\"class\"):\n",
    "                    last_set = columns[0].text\n",
    "                    id = last_set\n",
    "                stride_column = columns[6].find_elements(By.CSS_SELECTOR, \"span\")\n",
    "                stride_mapping = {}\n",
    "                for letter in stride_column:\n",
    "                    stride_mapping[letter.text] = \"controlset-threat-yes\" in letter.get_attribute(\"class\")\n",
    "                row_data = {\n",
    "                    \"id\": id,\n",
    "                    \"name\":  columns [1]. text,\n",
    "                    \"low\":  True if  \"•\" in columns [2]. text else False,\n",
    "                    \"moderate\": True if \"•\" in columns[3]. text else False,\n",
    "                    \"high\": True if \"•\" in columns[4].text else False,\n",
    "                    \"spoofing\": stride_mapping['S'],\n",
    "                    \"tampering\":  stride_mapping['T'],\n",
    "                    \"repudiation\": stride_mapping['R'],\n",
    "                    \"information_disclosure\": stride_mapping['I'],\n",
    "                    \"denial_of_service\":  stride_mapping['D'],\n",
    "                    \"elevation_of_privilege\": stride_mapping['E'],\n",
    "                    \"lateral_movement\":  stride_mapping['LM']\n",
    "                }\n",
    "                table_data.append(row_data)\n",
    "        next_page = driver.find_elements(By.CSS_SELECTOR, \"a.next.page-numbers\")\n",
    "        if len(next_page) > 0:\n",
    "            print(\"Going to the next page\")\n",
    "            next_page.pop().click()\n",
    "        else:\n",
    "            print(\"out of data\")\n",
    "            has_more_data = False\n",
    "            break\n",
    "\n",
    "finally:\n",
    "    driver.close()"
   ]
  },
  {
   "cell_type": "code",
   "execution_count": 34,
   "metadata": {},
   "outputs": [],
   "source": [
    "import csv\n",
    "with open(file=\"80053-STRIDELM-Mapping.csv\", mode=\"w\", newline=\"\", encoding=\"utf-8\") as output:\n",
    "    writer = csv.DictWriter(f=output, fieldnames=table_data[0].keys())\n",
    "    writer.writeheader()\n",
    "    writer.writerows(table_data)"
   ]
  }
 ],
 "metadata": {
  "kernelspec": {
   "display_name": ".venv",
   "language": "python",
   "name": "python3"
  },
  "language_info": {
   "codemirror_mode": {
    "name": "ipython",
    "version": 3
   },
   "file_extension": ".py",
   "mimetype": "text/x-python",
   "name": "python",
   "nbconvert_exporter": "python",
   "pygments_lexer": "ipython3",
   "version": "3.12.0"
  }
 },
 "nbformat": 4,
 "nbformat_minor": 2
}
